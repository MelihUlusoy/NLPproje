{
 "cells": [
  {
   "cell_type": "code",
   "execution_count": null,
   "id": "d5229584",
   "metadata": {},
   "outputs": [],
   "source": [
    "!pip install pandas numpy matplotlib nltk scikit-learn gensim\n",
    "import pandas as pd\n",
    "df = pd.read_csv(\"data/urun_adlari_large_dataset.csv\")\n",
    "df.head()\n"
   ]
  }
 ],
 "metadata": {
  "kernelspec": {
   "display_name": "venv",
   "language": "python",
   "name": "python3"
  },
  "language_info": {
   "name": "python",
   "version": "3.10.11"
  }
 },
 "nbformat": 4,
 "nbformat_minor": 5
}
